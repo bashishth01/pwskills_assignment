{
  "nbformat": 4,
  "nbformat_minor": 0,
  "metadata": {
    "colab": {
      "provenance": []
    },
    "kernelspec": {
      "name": "python3",
      "display_name": "Python 3"
    },
    "language_info": {
      "name": "python"
    }
  },
  "cells": [
    {
      "cell_type": "code",
      "execution_count": null,
      "metadata": {
        "id": "kFGKgnuzensL"
      },
      "outputs": [],
      "source": []
    },
    {
      "cell_type": "markdown",
      "source": [
        "Q1- What is python?\n",
        "Ans - Python is a programming lang widely used in data filed."
      ],
      "metadata": {
        "id": "ZffR9ofge-kA"
      }
    },
    {
      "cell_type": "markdown",
      "source": [],
      "metadata": {
        "id": "EcPjyuEufRWO"
      }
    },
    {
      "cell_type": "code",
      "source": [
        "#q1 - What is python?\n",
        "# ans - python is somethin"
      ],
      "metadata": {
        "id": "KhX8h7t0fKlj"
      },
      "execution_count": null,
      "outputs": []
    },
    {
      "cell_type": "code",
      "source": [
        "#q1 - Print hello word\n",
        "print(\"hello world\")"
      ],
      "metadata": {
        "colab": {
          "base_uri": "https://localhost:8080/"
        },
        "id": "Yhm7AB32fcYm",
        "outputId": "22135ba6-1c6d-4fd8-c90f-139fc5d826e8"
      },
      "execution_count": 1,
      "outputs": [
        {
          "output_type": "stream",
          "name": "stdout",
          "text": [
            "hello world\n"
          ]
        }
      ]
    },
    {
      "cell_type": "code",
      "source": [],
      "metadata": {
        "id": "Nyt3FGvYfm5Z"
      },
      "execution_count": null,
      "outputs": []
    }
  ]
}