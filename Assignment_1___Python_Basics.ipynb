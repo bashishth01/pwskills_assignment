{
  "nbformat": 4,
  "nbformat_minor": 0,
  "metadata": {
    "colab": {
      "provenance": []
    },
    "kernelspec": {
      "name": "python3",
      "display_name": "Python 3"
    },
    "language_info": {
      "name": "python"
    }
  },
  "cells": [
    {
      "cell_type": "code",
      "execution_count": null,
      "metadata": {
        "id": "z2BNNzcS2keJ"
      },
      "outputs": [],
      "source": [
        "#Q1 - What is python and why it is so popular?\n",
        "#Ans - Python is a programming language."
      ]
    },
    {
      "cell_type": "code",
      "source": [
        "#Write a Python program to print \"Hello, World!?\n",
        "print(\"Hello World\")"
      ],
      "metadata": {
        "colab": {
          "base_uri": "https://localhost:8080/"
        },
        "id": "njIIMqxd3PuU",
        "outputId": "7029910e-c573-4727-a73d-d3f0c99de18f"
      },
      "execution_count": 2,
      "outputs": [
        {
          "output_type": "stream",
          "name": "stdout",
          "text": [
            "Hello World\n"
          ]
        }
      ]
    },
    {
      "cell_type": "code",
      "source": [],
      "metadata": {
        "id": "TLvUa_wz3rFE"
      },
      "execution_count": null,
      "outputs": []
    }
  ]
}